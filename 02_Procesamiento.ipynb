{
 "cells": [
  {
   "cell_type": "markdown",
   "metadata": {},
   "source": [
    "## <font color='157699'> Importación de Librerías\n",
    "---"
   ]
  },
  {
   "cell_type": "code",
   "execution_count": 1,
   "metadata": {},
   "outputs": [],
   "source": [
    "# Ignorar warnings\n",
    "import warnings\n",
    "warnings.filterwarnings(\"ignore\")\n",
    "warnings.filterwarnings(\"default\")"
   ]
  },
  {
   "cell_type": "code",
   "execution_count": 4,
   "metadata": {},
   "outputs": [
    {
     "name": "stderr",
     "output_type": "stream",
     "text": [
      "C:\\Users\\Manuela\\AppData\\Roaming\\Python\\Python311\\site-packages\\IPython\\core\\pylabtools.py:77: DeprecationWarning: backends is deprecated since IPython 8.24, backends are managed in matplotlib and can be externally registered.\n",
      "  warnings.warn(\n",
      "C:\\Users\\Manuela\\AppData\\Roaming\\Python\\Python311\\site-packages\\IPython\\core\\pylabtools.py:77: DeprecationWarning: backend2gui is deprecated since IPython 8.24, backends are managed in matplotlib and can be externally registered.\n",
      "  warnings.warn(\n"
     ]
    }
   ],
   "source": [
    "import pandas as pd\n",
    "import numpy as np\n",
    "import matplotlib.pyplot as plt\n",
    "import seaborn as sns\n",
    "\n",
    "%matplotlib inline"
   ]
  },
  {
   "cell_type": "markdown",
   "metadata": {},
   "source": [
    "## <font color='157699'> Importación de Datos\n",
    "---"
   ]
  },
  {
   "cell_type": "code",
   "execution_count": 5,
   "metadata": {},
   "outputs": [],
   "source": [
    "# general_data\n",
    "general = pd.read_csv(\"https://raw.githubusercontent.com/Leostark95/Analitica_3_Proyecto_1/main/data/db_general.csv\", sep =\",\")\n",
    "# employee_survey_data\n",
    "employee = pd.read_csv(\"https://raw.githubusercontent.com/Leostark95/Analitica_3_Proyecto_1/main/data/db_employee.csv\", sep =\",\")\n",
    "# manager_survey\n",
    "manager = pd.read_csv(\"https://raw.githubusercontent.com/Leostark95/Analitica_3_Proyecto_1/main/data/db_manager.csv\", sep = \",\")\n",
    "# retirement_info\n",
    "retirement = pd.read_csv(\"https://raw.githubusercontent.com/Leostark95/Analitica_3_Proyecto_1/main/data/db_retirement.csv\", sep = \",\")"
   ]
  }
 ],
 "metadata": {
  "kernelspec": {
   "display_name": "base",
   "language": "python",
   "name": "python3"
  },
  "language_info": {
   "codemirror_mode": {
    "name": "ipython",
    "version": 3
   },
   "file_extension": ".py",
   "mimetype": "text/x-python",
   "name": "python",
   "nbconvert_exporter": "python",
   "pygments_lexer": "ipython3",
   "version": "3.11.5"
  }
 },
 "nbformat": 4,
 "nbformat_minor": 2
}
