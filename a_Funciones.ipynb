{
 "cells": [
  {
   "cell_type": "markdown",
   "metadata": {},
   "source": [
    "## <font color = \"157699\" > Librerías"
   ]
  },
  {
   "cell_type": "code",
   "execution_count": 1,
   "metadata": {},
   "outputs": [],
   "source": [
    "import pandas as pd\n",
    "import numpy as np\n",
    "import matplotlib.pyplot as plt\n",
    "import seaborn as sns"
   ]
  },
  {
   "cell_type": "markdown",
   "metadata": {},
   "source": [
    "## <font color = \"157699\" > 1. Preprocasamiento"
   ]
  },
  {
   "cell_type": "markdown",
   "metadata": {},
   "source": [
    "La siguiente función "
   ]
  },
  {
   "cell_type": "code",
   "execution_count": null,
   "metadata": {},
   "outputs": [],
   "source": [
    "def check_df(dataframe, head=5):\n",
    "    display(Markdown('**Shape**'))\n",
    "    display(dataframe.shape)\n",
    "\n",
    "    display(Markdown('**Types**'))\n",
    "    display(dataframe.dtypes)\n",
    "\n",
    "    display(Markdown('**Head**'))\n",
    "    display(dataframe.head(head))\n",
    "\n",
    "    display(Markdown('**NA**'))\n",
    "    display(dataframe.isnull().sum())\n",
    "\n",
    "    display(Markdown('**Quantiles**'))\n",
    "    display(dataframe.describe([0, 0.05, 0.50, 0.95, 0.99, 1]).T)"
   ]
  }
 ],
 "metadata": {
  "kernelspec": {
   "display_name": "Python 3",
   "language": "python",
   "name": "python3"
  },
  "language_info": {
   "codemirror_mode": {
    "name": "ipython",
    "version": 3
   },
   "file_extension": ".py",
   "mimetype": "text/x-python",
   "name": "python",
   "nbconvert_exporter": "python",
   "pygments_lexer": "ipython3",
   "version": "3.11.5"
  }
 },
 "nbformat": 4,
 "nbformat_minor": 2
}
