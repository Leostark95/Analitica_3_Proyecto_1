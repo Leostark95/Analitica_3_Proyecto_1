{
 "cells": [
  {
   "cell_type": "markdown",
   "metadata": {},
   "source": [
    "## <font color='157699'> Importación de Librerías\n",
    "---"
   ]
  },
  {
   "cell_type": "code",
   "execution_count": 3,
   "metadata": {},
   "outputs": [],
   "source": [
    "# Ignorar warnings\n",
    "import warnings\n",
    "warnings.filterwarnings(\"ignore\")\n",
    "warnings.filterwarnings(\"default\")"
   ]
  },
  {
   "cell_type": "code",
   "execution_count": 4,
   "metadata": {},
   "outputs": [],
   "source": [
    "import pandas as pd\n",
    "import numpy as np\n",
    "#import matplotlib.pyplot as plt\n",
    "#import seaborn as sns\n",
    "import sqlite3 as sql \n",
    "import a_funciones as funciones"
   ]
  },
  {
   "cell_type": "code",
   "execution_count": 5,
   "metadata": {},
   "outputs": [],
   "source": [
    "from IPython.display import display, Markdown\n",
    "pd.set_option('display.max_columns', None)"
   ]
  },
  {
   "cell_type": "markdown",
   "metadata": {},
   "source": [
    "## <font color='157699'> Importación de Datos\n",
    "---"
   ]
  },
  {
   "cell_type": "code",
   "execution_count": 47,
   "metadata": {},
   "outputs": [
    {
     "name": "stderr",
     "output_type": "stream",
     "text": [
      "<>:5: DeprecationWarning: invalid escape sequence '\\M'\n",
      "<>:5: DeprecationWarning: invalid escape sequence '\\M'\n",
      "C:\\Users\\Manuela\\AppData\\Local\\Temp\\ipykernel_11172\\661627400.py:5: DeprecationWarning: invalid escape sequence '\\M'\n",
      "  df_2016 = pd.read_csv(\"C:\\\\Users\\Manuela\\\\Documents\\\\Analitica 3\\\\Analitica_3_Proyecto_1\\\\processed_data_2016.csv\", sep =\",\")\n"
     ]
    }
   ],
   "source": [
    "# Manuela \n",
    "# Datos del 2015\n",
    "df_2015 = pd.read_csv(\"C:\\\\Users\\\\Manuela\\\\Documents\\\\Analitica 3\\\\Analitica_3_Proyecto_1\\\\processed_data_2015.csv\", sep =\",\")\n",
    "# Datos del 2016\n",
    "df_2016 = pd.read_csv(\"C:\\\\Users\\Manuela\\\\Documents\\\\Analitica 3\\\\Analitica_3_Proyecto_1\\\\processed_data_2016.csv\", sep =\",\")"
   ]
  },
  {
   "cell_type": "code",
   "execution_count": 12,
   "metadata": {},
   "outputs": [
    {
     "name": "stderr",
     "output_type": "stream",
     "text": [
      "<>:3: DeprecationWarning: invalid escape sequence '\\d'\n",
      "<>:5: DeprecationWarning: invalid escape sequence '\\d'\n",
      "<>:3: DeprecationWarning: invalid escape sequence '\\d'\n",
      "<>:5: DeprecationWarning: invalid escape sequence '\\d'\n",
      "C:\\Users\\delva\\AppData\\Local\\Temp\\ipykernel_6608\\4033405942.py:3: DeprecationWarning: invalid escape sequence '\\d'\n",
      "  df_2015 = pd.read_csv(\"C:\\\\Users\\delva\\OneDrive - Universidad de Antioquia\\SEMESTRE 2024-2\\\\ANALITICA 3\\\\Proyecto_RRHH\\\\processed_data_2015.csv\", sep =\",\")\n",
      "C:\\Users\\delva\\AppData\\Local\\Temp\\ipykernel_6608\\4033405942.py:5: DeprecationWarning: invalid escape sequence '\\d'\n",
      "  df_2016 = pd.read_csv(\"C:\\\\Users\\delva\\OneDrive - Universidad de Antioquia\\SEMESTRE 2024-2\\\\ANALITICA 3\\\\Proyecto_RRHH\\\\processed_data_2016.csv\", sep =\",\")\n"
     ]
    }
   ],
   "source": [
    "# Sofia\n",
    "# Datos del 2015\n",
    "df_2015 = pd.read_csv(\"C:\\\\Users\\delva\\OneDrive - Universidad de Antioquia\\SEMESTRE 2024-2\\\\ANALITICA 3\\\\Proyecto_RRHH\\\\processed_data_2015.csv\", sep =\",\")\n",
    "# Datos del 2016\n",
    "df_2016 = pd.read_csv(\"C:\\\\Users\\delva\\OneDrive - Universidad de Antioquia\\SEMESTRE 2024-2\\\\ANALITICA 3\\\\Proyecto_RRHH\\\\processed_data_2016.csv\", sep =\",\")"
   ]
  },
  {
   "cell_type": "code",
   "execution_count": 4,
   "metadata": {},
   "outputs": [],
   "source": [
    "# Leo\n",
    "# Datos del 2015\n",
    "df_2015 = pd.read_csv(\"C:/Users/cr-19/OneDrive - Universidad de Antioquia/2024-2/Aplicaciones de la Analítica/Entregas/Analitica_3_Proyecto_1/processed_data_2015.csv\", sep =\",\")\n",
    "# Datos del 2016\n",
    "df_2016 = pd.read_csv(\"C:/Users/cr-19/OneDrive - Universidad de Antioquia/2024-2/Aplicaciones de la Analítica/Entregas/Analitica_3_Proyecto_1/processed_data_2015.csv\", sep =\",\")"
   ]
  },
  {
   "cell_type": "code",
   "execution_count": null,
   "metadata": {},
   "outputs": [],
   "source": [
    "# Karen\n",
    "# Datos del 2015\n",
    "df_2015 = pd.read_csv(\"C:\\Users\\Manuela\\Documents\\Analitica 3\\Analitica_3_Proyecto_1\\processed_data_2015.csv\", sep =\",\")\n",
    "# Datos del 2016\n",
    "df_2016 = pd.read_csv(\"C:\\Users\\Manuela\\Documents\\Analitica 3\\Analitica_3_Proyecto_1\\processed_data_2016.csv\", sep =\",\")"
   ]
  },
  {
   "cell_type": "markdown",
   "metadata": {},
   "source": [
    "## <font color='157699'> Análisis descriptivo"
   ]
  },
  {
   "cell_type": "code",
   "execution_count": 13,
   "metadata": {},
   "outputs": [],
   "source": [
    "\n",
    "from IPython.display import display, Markdown\n",
    "def check_df(dataframe, head=5):\n",
    "    display(Markdown('**Shape**'))\n",
    "    display(dataframe.shape)\n",
    "\n",
    "    display(Markdown('**Types**'))\n",
    "    display(dataframe.dtypes)\n",
    "\n",
    "    display(Markdown('**Head**'))\n",
    "    display(dataframe.head(head))\n",
    "\n",
    "    display(Markdown('**NA**'))\n",
    "    display(dataframe.isnull().sum())\n",
    "\n",
    "    display(Markdown(\"**Duplicated**\"))\n",
    "    display(dataframe.duplicated().sum())"
   ]
  },
  {
   "cell_type": "code",
   "execution_count": 14,
   "metadata": {},
   "outputs": [
    {
     "data": {
      "text/markdown": [
       "**Shape**"
      ],
      "text/plain": [
       "<IPython.core.display.Markdown object>"
      ]
     },
     "metadata": {},
     "output_type": "display_data"
    },
    {
     "data": {
      "text/plain": [
       "(4308, 20)"
      ]
     },
     "metadata": {},
     "output_type": "display_data"
    },
    {
     "data": {
      "text/markdown": [
       "**Types**"
      ],
      "text/plain": [
       "<IPython.core.display.Markdown object>"
      ]
     },
     "metadata": {},
     "output_type": "display_data"
    },
    {
     "data": {
      "text/plain": [
       "EmployeeID                   int64\n",
       "Age                          int64\n",
       "BusinessTravel              object\n",
       "Department                  object\n",
       "DistanceFromHome             int64\n",
       "Education                    int64\n",
       "JobRole                     object\n",
       "MonthlyIncome                int64\n",
       "NumCompaniesWorked         float64\n",
       "PercentSalaryHike            int64\n",
       "TrainingTimesLastYear        int64\n",
       "YearsAtCompany               int64\n",
       "YearsSinceLastPromotion      int64\n",
       "EnvironmentSatisfaction    float64\n",
       "JobSatisfaction            float64\n",
       "WorkLifeBalance            float64\n",
       "JobInvolvement               int64\n",
       "PerformanceRating            int64\n",
       "retiro_2016                 object\n",
       "renuncia2016                 int64\n",
       "dtype: object"
      ]
     },
     "metadata": {},
     "output_type": "display_data"
    },
    {
     "data": {
      "text/markdown": [
       "**Head**"
      ],
      "text/plain": [
       "<IPython.core.display.Markdown object>"
      ]
     },
     "metadata": {},
     "output_type": "display_data"
    },
    {
     "data": {
      "text/html": [
       "<div>\n",
       "<style scoped>\n",
       "    .dataframe tbody tr th:only-of-type {\n",
       "        vertical-align: middle;\n",
       "    }\n",
       "\n",
       "    .dataframe tbody tr th {\n",
       "        vertical-align: top;\n",
       "    }\n",
       "\n",
       "    .dataframe thead th {\n",
       "        text-align: right;\n",
       "    }\n",
       "</style>\n",
       "<table border=\"1\" class=\"dataframe\">\n",
       "  <thead>\n",
       "    <tr style=\"text-align: right;\">\n",
       "      <th></th>\n",
       "      <th>EmployeeID</th>\n",
       "      <th>Age</th>\n",
       "      <th>BusinessTravel</th>\n",
       "      <th>Department</th>\n",
       "      <th>DistanceFromHome</th>\n",
       "      <th>Education</th>\n",
       "      <th>JobRole</th>\n",
       "      <th>MonthlyIncome</th>\n",
       "      <th>NumCompaniesWorked</th>\n",
       "      <th>PercentSalaryHike</th>\n",
       "      <th>TrainingTimesLastYear</th>\n",
       "      <th>YearsAtCompany</th>\n",
       "      <th>YearsSinceLastPromotion</th>\n",
       "      <th>EnvironmentSatisfaction</th>\n",
       "      <th>JobSatisfaction</th>\n",
       "      <th>WorkLifeBalance</th>\n",
       "      <th>JobInvolvement</th>\n",
       "      <th>PerformanceRating</th>\n",
       "      <th>retiro_2016</th>\n",
       "      <th>renuncia2016</th>\n",
       "    </tr>\n",
       "  </thead>\n",
       "  <tbody>\n",
       "    <tr>\n",
       "      <th>0</th>\n",
       "      <td>1</td>\n",
       "      <td>51</td>\n",
       "      <td>Travel_Rarely</td>\n",
       "      <td>Sales</td>\n",
       "      <td>6</td>\n",
       "      <td>2</td>\n",
       "      <td>Healthcare Representative</td>\n",
       "      <td>131160</td>\n",
       "      <td>1.0</td>\n",
       "      <td>11</td>\n",
       "      <td>6</td>\n",
       "      <td>1</td>\n",
       "      <td>0</td>\n",
       "      <td>3.0</td>\n",
       "      <td>4.0</td>\n",
       "      <td>2.0</td>\n",
       "      <td>3</td>\n",
       "      <td>3</td>\n",
       "      <td>NaN</td>\n",
       "      <td>0</td>\n",
       "    </tr>\n",
       "    <tr>\n",
       "      <th>1</th>\n",
       "      <td>2</td>\n",
       "      <td>31</td>\n",
       "      <td>Travel_Frequently</td>\n",
       "      <td>Research &amp; Development</td>\n",
       "      <td>10</td>\n",
       "      <td>1</td>\n",
       "      <td>Research Scientist</td>\n",
       "      <td>41890</td>\n",
       "      <td>0.0</td>\n",
       "      <td>23</td>\n",
       "      <td>3</td>\n",
       "      <td>5</td>\n",
       "      <td>1</td>\n",
       "      <td>3.0</td>\n",
       "      <td>2.0</td>\n",
       "      <td>4.0</td>\n",
       "      <td>2</td>\n",
       "      <td>4</td>\n",
       "      <td>Resignation</td>\n",
       "      <td>1</td>\n",
       "    </tr>\n",
       "    <tr>\n",
       "      <th>2</th>\n",
       "      <td>3</td>\n",
       "      <td>32</td>\n",
       "      <td>Travel_Frequently</td>\n",
       "      <td>Research &amp; Development</td>\n",
       "      <td>17</td>\n",
       "      <td>4</td>\n",
       "      <td>Sales Executive</td>\n",
       "      <td>193280</td>\n",
       "      <td>1.0</td>\n",
       "      <td>15</td>\n",
       "      <td>2</td>\n",
       "      <td>5</td>\n",
       "      <td>0</td>\n",
       "      <td>2.0</td>\n",
       "      <td>2.0</td>\n",
       "      <td>1.0</td>\n",
       "      <td>3</td>\n",
       "      <td>3</td>\n",
       "      <td>NaN</td>\n",
       "      <td>0</td>\n",
       "    </tr>\n",
       "    <tr>\n",
       "      <th>3</th>\n",
       "      <td>4</td>\n",
       "      <td>38</td>\n",
       "      <td>Non-Travel</td>\n",
       "      <td>Research &amp; Development</td>\n",
       "      <td>2</td>\n",
       "      <td>5</td>\n",
       "      <td>Human Resources</td>\n",
       "      <td>83210</td>\n",
       "      <td>3.0</td>\n",
       "      <td>11</td>\n",
       "      <td>5</td>\n",
       "      <td>8</td>\n",
       "      <td>7</td>\n",
       "      <td>4.0</td>\n",
       "      <td>4.0</td>\n",
       "      <td>3.0</td>\n",
       "      <td>2</td>\n",
       "      <td>3</td>\n",
       "      <td>NaN</td>\n",
       "      <td>0</td>\n",
       "    </tr>\n",
       "    <tr>\n",
       "      <th>4</th>\n",
       "      <td>5</td>\n",
       "      <td>32</td>\n",
       "      <td>Travel_Rarely</td>\n",
       "      <td>Research &amp; Development</td>\n",
       "      <td>10</td>\n",
       "      <td>1</td>\n",
       "      <td>Sales Executive</td>\n",
       "      <td>23420</td>\n",
       "      <td>4.0</td>\n",
       "      <td>12</td>\n",
       "      <td>2</td>\n",
       "      <td>6</td>\n",
       "      <td>0</td>\n",
       "      <td>4.0</td>\n",
       "      <td>1.0</td>\n",
       "      <td>3.0</td>\n",
       "      <td>3</td>\n",
       "      <td>3</td>\n",
       "      <td>NaN</td>\n",
       "      <td>0</td>\n",
       "    </tr>\n",
       "  </tbody>\n",
       "</table>\n",
       "</div>"
      ],
      "text/plain": [
       "   EmployeeID  Age     BusinessTravel              Department  \\\n",
       "0           1   51      Travel_Rarely                   Sales   \n",
       "1           2   31  Travel_Frequently  Research & Development   \n",
       "2           3   32  Travel_Frequently  Research & Development   \n",
       "3           4   38         Non-Travel  Research & Development   \n",
       "4           5   32      Travel_Rarely  Research & Development   \n",
       "\n",
       "   DistanceFromHome  Education                    JobRole  MonthlyIncome  \\\n",
       "0                 6          2  Healthcare Representative         131160   \n",
       "1                10          1         Research Scientist          41890   \n",
       "2                17          4            Sales Executive         193280   \n",
       "3                 2          5            Human Resources          83210   \n",
       "4                10          1            Sales Executive          23420   \n",
       "\n",
       "   NumCompaniesWorked  PercentSalaryHike  TrainingTimesLastYear  \\\n",
       "0                 1.0                 11                      6   \n",
       "1                 0.0                 23                      3   \n",
       "2                 1.0                 15                      2   \n",
       "3                 3.0                 11                      5   \n",
       "4                 4.0                 12                      2   \n",
       "\n",
       "   YearsAtCompany  YearsSinceLastPromotion  EnvironmentSatisfaction  \\\n",
       "0               1                        0                      3.0   \n",
       "1               5                        1                      3.0   \n",
       "2               5                        0                      2.0   \n",
       "3               8                        7                      4.0   \n",
       "4               6                        0                      4.0   \n",
       "\n",
       "   JobSatisfaction  WorkLifeBalance  JobInvolvement  PerformanceRating  \\\n",
       "0              4.0              2.0               3                  3   \n",
       "1              2.0              4.0               2                  4   \n",
       "2              2.0              1.0               3                  3   \n",
       "3              4.0              3.0               2                  3   \n",
       "4              1.0              3.0               3                  3   \n",
       "\n",
       "   retiro_2016  renuncia2016  \n",
       "0          NaN             0  \n",
       "1  Resignation             1  \n",
       "2          NaN             0  \n",
       "3          NaN             0  \n",
       "4          NaN             0  "
      ]
     },
     "metadata": {},
     "output_type": "display_data"
    },
    {
     "data": {
      "text/markdown": [
       "**NA**"
      ],
      "text/plain": [
       "<IPython.core.display.Markdown object>"
      ]
     },
     "metadata": {},
     "output_type": "display_data"
    },
    {
     "data": {
      "text/plain": [
       "EmployeeID                    0\n",
       "Age                           0\n",
       "BusinessTravel                0\n",
       "Department                    0\n",
       "DistanceFromHome              0\n",
       "Education                     0\n",
       "JobRole                       0\n",
       "MonthlyIncome                 0\n",
       "NumCompaniesWorked            0\n",
       "PercentSalaryHike             0\n",
       "TrainingTimesLastYear         0\n",
       "YearsAtCompany                0\n",
       "YearsSinceLastPromotion       0\n",
       "EnvironmentSatisfaction       0\n",
       "JobSatisfaction               0\n",
       "WorkLifeBalance               0\n",
       "JobInvolvement                0\n",
       "PerformanceRating             0\n",
       "retiro_2016                3672\n",
       "renuncia2016                  0\n",
       "dtype: int64"
      ]
     },
     "metadata": {},
     "output_type": "display_data"
    },
    {
     "data": {
      "text/markdown": [
       "**Duplicated**"
      ],
      "text/plain": [
       "<IPython.core.display.Markdown object>"
      ]
     },
     "metadata": {},
     "output_type": "display_data"
    },
    {
     "data": {
      "text/plain": [
       "np.int64(0)"
      ]
     },
     "metadata": {},
     "output_type": "display_data"
    }
   ],
   "source": [
    "check_df(df_2015)"
   ]
  },
  {
   "cell_type": "markdown",
   "metadata": {},
   "source": [
    "Se elimina la variable retiro 2016 porque no es relevante."
   ]
  },
  {
   "cell_type": "code",
   "execution_count": 15,
   "metadata": {},
   "outputs": [
    {
     "data": {
      "text/plain": [
       "Index(['EmployeeID', 'Age', 'BusinessTravel', 'Department', 'DistanceFromHome',\n",
       "       'Education', 'JobRole', 'MonthlyIncome', 'NumCompaniesWorked',\n",
       "       'PercentSalaryHike', 'TrainingTimesLastYear', 'YearsAtCompany',\n",
       "       'YearsSinceLastPromotion', 'EnvironmentSatisfaction', 'JobSatisfaction',\n",
       "       'WorkLifeBalance', 'JobInvolvement', 'PerformanceRating',\n",
       "       'renuncia2016'],\n",
       "      dtype='object')"
      ]
     },
     "execution_count": 15,
     "metadata": {},
     "output_type": "execute_result"
    }
   ],
   "source": [
    "del df_2015['retiro_2016']\n",
    "df_2015.columns"
   ]
  },
  {
   "cell_type": "code",
   "execution_count": 16,
   "metadata": {},
   "outputs": [
    {
     "data": {
      "text/markdown": [
       "**Shape**"
      ],
      "text/plain": [
       "<IPython.core.display.Markdown object>"
      ]
     },
     "metadata": {},
     "output_type": "display_data"
    },
    {
     "data": {
      "text/plain": [
       "(4308, 18)"
      ]
     },
     "metadata": {},
     "output_type": "display_data"
    },
    {
     "data": {
      "text/markdown": [
       "**Types**"
      ],
      "text/plain": [
       "<IPython.core.display.Markdown object>"
      ]
     },
     "metadata": {},
     "output_type": "display_data"
    },
    {
     "data": {
      "text/plain": [
       "EmployeeID                   int64\n",
       "Age                          int64\n",
       "BusinessTravel              object\n",
       "Department                  object\n",
       "DistanceFromHome             int64\n",
       "Education                    int64\n",
       "JobRole                     object\n",
       "MonthlyIncome                int64\n",
       "NumCompaniesWorked         float64\n",
       "PercentSalaryHike            int64\n",
       "TrainingTimesLastYear        int64\n",
       "YearsAtCompany               int64\n",
       "YearsSinceLastPromotion      int64\n",
       "EnvironmentSatisfaction    float64\n",
       "JobSatisfaction            float64\n",
       "WorkLifeBalance            float64\n",
       "JobInvolvement               int64\n",
       "PerformanceRating            int64\n",
       "dtype: object"
      ]
     },
     "metadata": {},
     "output_type": "display_data"
    },
    {
     "data": {
      "text/markdown": [
       "**Head**"
      ],
      "text/plain": [
       "<IPython.core.display.Markdown object>"
      ]
     },
     "metadata": {},
     "output_type": "display_data"
    },
    {
     "data": {
      "text/html": [
       "<div>\n",
       "<style scoped>\n",
       "    .dataframe tbody tr th:only-of-type {\n",
       "        vertical-align: middle;\n",
       "    }\n",
       "\n",
       "    .dataframe tbody tr th {\n",
       "        vertical-align: top;\n",
       "    }\n",
       "\n",
       "    .dataframe thead th {\n",
       "        text-align: right;\n",
       "    }\n",
       "</style>\n",
       "<table border=\"1\" class=\"dataframe\">\n",
       "  <thead>\n",
       "    <tr style=\"text-align: right;\">\n",
       "      <th></th>\n",
       "      <th>EmployeeID</th>\n",
       "      <th>Age</th>\n",
       "      <th>BusinessTravel</th>\n",
       "      <th>Department</th>\n",
       "      <th>DistanceFromHome</th>\n",
       "      <th>Education</th>\n",
       "      <th>JobRole</th>\n",
       "      <th>MonthlyIncome</th>\n",
       "      <th>NumCompaniesWorked</th>\n",
       "      <th>PercentSalaryHike</th>\n",
       "      <th>TrainingTimesLastYear</th>\n",
       "      <th>YearsAtCompany</th>\n",
       "      <th>YearsSinceLastPromotion</th>\n",
       "      <th>EnvironmentSatisfaction</th>\n",
       "      <th>JobSatisfaction</th>\n",
       "      <th>WorkLifeBalance</th>\n",
       "      <th>JobInvolvement</th>\n",
       "      <th>PerformanceRating</th>\n",
       "    </tr>\n",
       "  </thead>\n",
       "  <tbody>\n",
       "    <tr>\n",
       "      <th>0</th>\n",
       "      <td>1</td>\n",
       "      <td>51</td>\n",
       "      <td>Travel_Rarely</td>\n",
       "      <td>Sales</td>\n",
       "      <td>6</td>\n",
       "      <td>2</td>\n",
       "      <td>Healthcare Representative</td>\n",
       "      <td>131160</td>\n",
       "      <td>1.0</td>\n",
       "      <td>11</td>\n",
       "      <td>6</td>\n",
       "      <td>1</td>\n",
       "      <td>0</td>\n",
       "      <td>3.0</td>\n",
       "      <td>4.0</td>\n",
       "      <td>2.0</td>\n",
       "      <td>3</td>\n",
       "      <td>3</td>\n",
       "    </tr>\n",
       "    <tr>\n",
       "      <th>1</th>\n",
       "      <td>3</td>\n",
       "      <td>32</td>\n",
       "      <td>Travel_Frequently</td>\n",
       "      <td>Research &amp; Development</td>\n",
       "      <td>17</td>\n",
       "      <td>4</td>\n",
       "      <td>Sales Executive</td>\n",
       "      <td>193280</td>\n",
       "      <td>1.0</td>\n",
       "      <td>15</td>\n",
       "      <td>2</td>\n",
       "      <td>5</td>\n",
       "      <td>0</td>\n",
       "      <td>2.0</td>\n",
       "      <td>2.0</td>\n",
       "      <td>1.0</td>\n",
       "      <td>3</td>\n",
       "      <td>3</td>\n",
       "    </tr>\n",
       "    <tr>\n",
       "      <th>2</th>\n",
       "      <td>4</td>\n",
       "      <td>38</td>\n",
       "      <td>Non-Travel</td>\n",
       "      <td>Research &amp; Development</td>\n",
       "      <td>2</td>\n",
       "      <td>5</td>\n",
       "      <td>Human Resources</td>\n",
       "      <td>83210</td>\n",
       "      <td>3.0</td>\n",
       "      <td>11</td>\n",
       "      <td>5</td>\n",
       "      <td>8</td>\n",
       "      <td>7</td>\n",
       "      <td>4.0</td>\n",
       "      <td>4.0</td>\n",
       "      <td>3.0</td>\n",
       "      <td>2</td>\n",
       "      <td>3</td>\n",
       "    </tr>\n",
       "    <tr>\n",
       "      <th>3</th>\n",
       "      <td>5</td>\n",
       "      <td>32</td>\n",
       "      <td>Travel_Rarely</td>\n",
       "      <td>Research &amp; Development</td>\n",
       "      <td>10</td>\n",
       "      <td>1</td>\n",
       "      <td>Sales Executive</td>\n",
       "      <td>23420</td>\n",
       "      <td>4.0</td>\n",
       "      <td>12</td>\n",
       "      <td>2</td>\n",
       "      <td>6</td>\n",
       "      <td>0</td>\n",
       "      <td>4.0</td>\n",
       "      <td>1.0</td>\n",
       "      <td>3.0</td>\n",
       "      <td>3</td>\n",
       "      <td>3</td>\n",
       "    </tr>\n",
       "    <tr>\n",
       "      <th>4</th>\n",
       "      <td>6</td>\n",
       "      <td>46</td>\n",
       "      <td>Travel_Rarely</td>\n",
       "      <td>Research &amp; Development</td>\n",
       "      <td>8</td>\n",
       "      <td>3</td>\n",
       "      <td>Research Director</td>\n",
       "      <td>40710</td>\n",
       "      <td>3.0</td>\n",
       "      <td>13</td>\n",
       "      <td>5</td>\n",
       "      <td>7</td>\n",
       "      <td>7</td>\n",
       "      <td>3.0</td>\n",
       "      <td>2.0</td>\n",
       "      <td>2.0</td>\n",
       "      <td>3</td>\n",
       "      <td>3</td>\n",
       "    </tr>\n",
       "  </tbody>\n",
       "</table>\n",
       "</div>"
      ],
      "text/plain": [
       "   EmployeeID  Age     BusinessTravel              Department  \\\n",
       "0           1   51      Travel_Rarely                   Sales   \n",
       "1           3   32  Travel_Frequently  Research & Development   \n",
       "2           4   38         Non-Travel  Research & Development   \n",
       "3           5   32      Travel_Rarely  Research & Development   \n",
       "4           6   46      Travel_Rarely  Research & Development   \n",
       "\n",
       "   DistanceFromHome  Education                    JobRole  MonthlyIncome  \\\n",
       "0                 6          2  Healthcare Representative         131160   \n",
       "1                17          4            Sales Executive         193280   \n",
       "2                 2          5            Human Resources          83210   \n",
       "3                10          1            Sales Executive          23420   \n",
       "4                 8          3          Research Director          40710   \n",
       "\n",
       "   NumCompaniesWorked  PercentSalaryHike  TrainingTimesLastYear  \\\n",
       "0                 1.0                 11                      6   \n",
       "1                 1.0                 15                      2   \n",
       "2                 3.0                 11                      5   \n",
       "3                 4.0                 12                      2   \n",
       "4                 3.0                 13                      5   \n",
       "\n",
       "   YearsAtCompany  YearsSinceLastPromotion  EnvironmentSatisfaction  \\\n",
       "0               1                        0                      3.0   \n",
       "1               5                        0                      2.0   \n",
       "2               8                        7                      4.0   \n",
       "3               6                        0                      4.0   \n",
       "4               7                        7                      3.0   \n",
       "\n",
       "   JobSatisfaction  WorkLifeBalance  JobInvolvement  PerformanceRating  \n",
       "0              4.0              2.0               3                  3  \n",
       "1              2.0              1.0               3                  3  \n",
       "2              4.0              3.0               2                  3  \n",
       "3              1.0              3.0               3                  3  \n",
       "4              2.0              2.0               3                  3  "
      ]
     },
     "metadata": {},
     "output_type": "display_data"
    },
    {
     "data": {
      "text/markdown": [
       "**NA**"
      ],
      "text/plain": [
       "<IPython.core.display.Markdown object>"
      ]
     },
     "metadata": {},
     "output_type": "display_data"
    },
    {
     "data": {
      "text/plain": [
       "EmployeeID                 0\n",
       "Age                        0\n",
       "BusinessTravel             0\n",
       "Department                 0\n",
       "DistanceFromHome           0\n",
       "Education                  0\n",
       "JobRole                    0\n",
       "MonthlyIncome              0\n",
       "NumCompaniesWorked         0\n",
       "PercentSalaryHike          0\n",
       "TrainingTimesLastYear      0\n",
       "YearsAtCompany             0\n",
       "YearsSinceLastPromotion    0\n",
       "EnvironmentSatisfaction    0\n",
       "JobSatisfaction            0\n",
       "WorkLifeBalance            0\n",
       "JobInvolvement             0\n",
       "PerformanceRating          0\n",
       "dtype: int64"
      ]
     },
     "metadata": {},
     "output_type": "display_data"
    },
    {
     "data": {
      "text/markdown": [
       "**Duplicated**"
      ],
      "text/plain": [
       "<IPython.core.display.Markdown object>"
      ]
     },
     "metadata": {},
     "output_type": "display_data"
    },
    {
     "data": {
      "text/plain": [
       "np.int64(0)"
      ]
     },
     "metadata": {},
     "output_type": "display_data"
    }
   ],
   "source": [
    "check_df(df_2016)"
   ]
  },
  {
   "cell_type": "markdown",
   "metadata": {},
   "source": [
    "Conversión de variables numéricas a categoricas debido al tratamiento que posteriormente se les dará"
   ]
  },
  {
   "cell_type": "code",
   "execution_count": 32,
   "metadata": {},
   "outputs": [],
   "source": [
    "df_2015['EmployeeID'] = df_2015['EmployeeID'].astype(str)\n",
    "df_2015['EnvironmentSatisfaction'] = df_2015['EnvironmentSatisfaction'].astype(str)\n",
    "df_2015['JobSatisfaction'] = df_2015['JobSatisfaction'].astype(str)\n",
    "df_2015['WorkLifeBalance'] = df_2015['WorkLifeBalance'].astype(str)\n",
    "df_2015['JobInvolvement'] = df_2015['JobInvolvement'].astype(str)\n",
    "df_2015['PerformanceRating'] = df_2015['PerformanceRating'].astype(str)\n",
    "df_2015['NumCompaniesWorked'] = df_2015['NumCompaniesWorked'].astype(int)\n",
    "df_2015['PercentSalaryHike'] = df_2015['PercentSalaryHike'] / 100"
   ]
  },
  {
   "cell_type": "code",
   "execution_count": 33,
   "metadata": {},
   "outputs": [],
   "source": [
    "df_2016['EmployeeID'] = df_2016['EmployeeID'].astype(str)\n",
    "df_2016['EnvironmentSatisfaction'] = df_2016['EnvironmentSatisfaction'].astype(str)\n",
    "df_2016['JobSatisfaction'] = df_2016['JobSatisfaction'].astype(str)\n",
    "df_2016['WorkLifeBalance'] = df_2016['WorkLifeBalance'].astype(str)\n",
    "df_2016['JobInvolvement'] = df_2016['JobInvolvement'].astype(str)\n",
    "df_2016['PerformanceRating'] = df_2016['PerformanceRating'].astype(str)\n",
    "df_2016['NumCompaniesWorked'] = df_2016['NumCompaniesWorked'].astype(int)\n",
    "df_2016['PercentSalaryHike'] = df_2016['PercentSalaryHike'].astype(float)\n",
    "df_2016['PercentSalaryHike'] = df_2016['PercentSalaryHike'] / 100"
   ]
  },
  {
   "cell_type": "markdown",
   "metadata": {},
   "source": [
    "## <font color='157699'> Análisis gráfico"
   ]
  },
  {
   "cell_type": "code",
   "execution_count": 30,
   "metadata": {},
   "outputs": [
    {
     "name": "stdout",
     "output_type": "stream",
     "text": [
      "Index(['Age', 'DistanceFromHome', 'Education', 'MonthlyIncome',\n",
      "       'NumCompaniesWorked', 'TrainingTimesLastYear', 'YearsAtCompany',\n",
      "       'YearsSinceLastPromotion', 'renuncia2016'],\n",
      "      dtype='object')\n",
      "Index(['EmployeeID', 'BusinessTravel', 'Department', 'JobRole',\n",
      "       'EnvironmentSatisfaction', 'JobSatisfaction', 'WorkLifeBalance',\n",
      "       'JobInvolvement', 'PerformanceRating'],\n",
      "      dtype='object')\n"
     ]
    }
   ],
   "source": [
    "x_numeric = df_2015.select_dtypes(int)\n",
    "x_cat = df_2015.select_dtypes(object)\n",
    "\n",
    "print(x_numeric.columns)\n",
    "print(x_cat.columns)\n"
   ]
  },
  {
   "cell_type": "markdown",
   "metadata": {},
   "source": [
    "### Variables numéricas"
   ]
  }
 ],
 "metadata": {
  "kernelspec": {
   "display_name": "base",
   "language": "python",
   "name": "python3"
  },
  "language_info": {
   "codemirror_mode": {
    "name": "ipython",
    "version": 3
   },
   "file_extension": ".py",
   "mimetype": "text/x-python",
   "name": "python",
   "nbconvert_exporter": "python",
   "pygments_lexer": "ipython3",
   "version": "3.10.4"
  }
 },
 "nbformat": 4,
 "nbformat_minor": 2
}
